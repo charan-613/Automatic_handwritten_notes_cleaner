{
  "nbformat": 4,
  "nbformat_minor": 0,
  "metadata": {
    "colab": {
      "provenance": []
    },
    "kernelspec": {
      "name": "python3",
      "display_name": "Python 3"
    },
    "language_info": {
      "name": "python"
    }
  },
  "cells": [
    {
      "cell_type": "code",
      "source": [
        "import cv2\n",
        "import os\n",
        "from keras.preprocessing.image import img_to_array\n",
        "from keras.models import load_model\n",
        "import numpy as np\n",
        "\n",
        "examples = '/content/drive/MyDrive/Colab_Notebooks/Project_delete/Images/notes/'\n",
        "image = []\n",
        "\n",
        "for img in os.listdir(examples):\n",
        "  img = os.path.join(examples,img)\n",
        "  image = cv2.imread(img)\n",
        "\n",
        "  # Check if the image is empty\n",
        "  if image is not None:\n",
        "    image = cv2.resize(image, (28, 28))\n",
        "    image = image.astype('float')/255.0\n",
        "    image = img_to_array(image)\n",
        "    image = np.expand_dims(image, axis=0)\n",
        "\n",
        "    # Load the model and make a prediction\n",
        "    model = load_model('/content/drive/MyDrive/Colab_Notebooks/Project_delete/mymodel.h5')\n",
        "    (not_notes, notes) = model.predict(image)[0]\n",
        "\n",
        "    # Determine the label and probability\n",
        "    label = 'notes' if notes > not_notes else \"not_notes\"\n",
        "    proba = notes if notes > not_notes else not_notes\n",
        "\n",
        "    # Print the label and probability\n",
        "    print(\"{}: {:.2f}%\".format(label, proba*100))\n",
        "\n",
        "    # If the image is a note, delete it\n",
        "    if notes > not_notes:\n",
        "      os.remove(img)\n",
        "\n"
      ],
      "metadata": {
        "colab": {
          "base_uri": "https://localhost:8080/"
        },
        "id": "E24PfCtt50D0",
        "outputId": "29960a4b-0c06-44b5-8637-b3fecc207101"
      },
      "execution_count": null,
      "outputs": [
        {
          "output_type": "stream",
          "name": "stdout",
          "text": [
            "1/1 [==============================] - 0s 357ms/step\n",
            "not_notes: 99.44%\n",
            "1/1 [==============================] - 0s 86ms/step\n",
            "not_notes: 61.02%\n",
            "1/1 [==============================] - 0s 122ms/step\n",
            "not_notes: 98.13%\n",
            "1/1 [==============================] - 0s 127ms/step\n",
            "not_notes: 93.33%\n"
          ]
        },
        {
          "output_type": "stream",
          "name": "stderr",
          "text": [
            "WARNING:tensorflow:5 out of the last 5 calls to <function Model.make_predict_function.<locals>.predict_function at 0x7fa611c6c9d0> triggered tf.function retracing. Tracing is expensive and the excessive number of tracings could be due to (1) creating @tf.function repeatedly in a loop, (2) passing tensors with different shapes, (3) passing Python objects instead of tensors. For (1), please define your @tf.function outside of the loop. For (2), @tf.function has reduce_retracing=True option that can avoid unnecessary retracing. For (3), please refer to https://www.tensorflow.org/guide/function#controlling_retracing and https://www.tensorflow.org/api_docs/python/tf/function for  more details.\n"
          ]
        },
        {
          "output_type": "stream",
          "name": "stdout",
          "text": [
            "1/1 [==============================] - 0s 157ms/step\n",
            "not_notes: 99.40%\n"
          ]
        },
        {
          "output_type": "stream",
          "name": "stderr",
          "text": [
            "WARNING:tensorflow:6 out of the last 6 calls to <function Model.make_predict_function.<locals>.predict_function at 0x7fa611c6e320> triggered tf.function retracing. Tracing is expensive and the excessive number of tracings could be due to (1) creating @tf.function repeatedly in a loop, (2) passing tensors with different shapes, (3) passing Python objects instead of tensors. For (1), please define your @tf.function outside of the loop. For (2), @tf.function has reduce_retracing=True option that can avoid unnecessary retracing. For (3), please refer to https://www.tensorflow.org/guide/function#controlling_retracing and https://www.tensorflow.org/api_docs/python/tf/function for  more details.\n"
          ]
        },
        {
          "output_type": "stream",
          "name": "stdout",
          "text": [
            "1/1 [==============================] - 0s 117ms/step\n",
            "not_notes: 99.95%\n",
            "1/1 [==============================] - 0s 123ms/step\n",
            "not_notes: 98.43%\n",
            "1/1 [==============================] - 0s 98ms/step\n",
            "not_notes: 99.71%\n",
            "1/1 [==============================] - 0s 80ms/step\n",
            "not_notes: 100.00%\n",
            "1/1 [==============================] - 0s 85ms/step\n",
            "not_notes: 97.95%\n",
            "1/1 [==============================] - 0s 82ms/step\n",
            "not_notes: 91.32%\n",
            "1/1 [==============================] - 0s 79ms/step\n",
            "not_notes: 99.76%\n",
            "1/1 [==============================] - 0s 89ms/step\n",
            "not_notes: 95.57%\n",
            "1/1 [==============================] - 0s 81ms/step\n",
            "not_notes: 93.67%\n",
            "1/1 [==============================] - 0s 87ms/step\n",
            "not_notes: 100.00%\n",
            "1/1 [==============================] - 0s 83ms/step\n",
            "not_notes: 99.38%\n",
            "1/1 [==============================] - 0s 94ms/step\n",
            "not_notes: 100.00%\n",
            "1/1 [==============================] - 0s 80ms/step\n",
            "not_notes: 86.85%\n",
            "1/1 [==============================] - 0s 84ms/step\n",
            "not_notes: 99.87%\n",
            "1/1 [==============================] - 0s 115ms/step\n",
            "not_notes: 100.00%\n",
            "1/1 [==============================] - 0s 115ms/step\n",
            "not_notes: 99.88%\n",
            "1/1 [==============================] - 0s 128ms/step\n",
            "not_notes: 99.95%\n",
            "1/1 [==============================] - 0s 124ms/step\n",
            "not_notes: 99.99%\n",
            "1/1 [==============================] - 0s 82ms/step\n",
            "not_notes: 100.00%\n",
            "1/1 [==============================] - 0s 83ms/step\n",
            "not_notes: 73.93%\n",
            "1/1 [==============================] - 0s 93ms/step\n",
            "not_notes: 58.40%\n",
            "1/1 [==============================] - 0s 112ms/step\n",
            "not_notes: 99.80%\n",
            "1/1 [==============================] - 0s 91ms/step\n",
            "not_notes: 100.00%\n",
            "1/1 [==============================] - 0s 88ms/step\n",
            "not_notes: 70.88%\n",
            "1/1 [==============================] - 0s 88ms/step\n",
            "not_notes: 99.99%\n",
            "1/1 [==============================] - 0s 88ms/step\n",
            "not_notes: 83.30%\n",
            "1/1 [==============================] - 0s 80ms/step\n",
            "not_notes: 100.00%\n",
            "1/1 [==============================] - 0s 83ms/step\n",
            "not_notes: 98.76%\n",
            "1/1 [==============================] - 0s 82ms/step\n",
            "not_notes: 99.76%\n",
            "1/1 [==============================] - 0s 84ms/step\n",
            "not_notes: 80.71%\n",
            "1/1 [==============================] - 0s 83ms/step\n",
            "not_notes: 99.93%\n",
            "1/1 [==============================] - 0s 79ms/step\n",
            "not_notes: 89.88%\n",
            "1/1 [==============================] - 0s 130ms/step\n",
            "not_notes: 51.61%\n",
            "1/1 [==============================] - 0s 139ms/step\n",
            "not_notes: 86.74%\n",
            "1/1 [==============================] - 0s 138ms/step\n",
            "not_notes: 100.00%\n",
            "1/1 [==============================] - 0s 127ms/step\n",
            "not_notes: 99.99%\n",
            "1/1 [==============================] - 0s 111ms/step\n",
            "not_notes: 95.71%\n",
            "1/1 [==============================] - 0s 80ms/step\n",
            "not_notes: 100.00%\n",
            "1/1 [==============================] - 0s 88ms/step\n",
            "not_notes: 100.00%\n",
            "1/1 [==============================] - 0s 86ms/step\n",
            "not_notes: 59.10%\n",
            "1/1 [==============================] - 0s 89ms/step\n",
            "not_notes: 51.70%\n",
            "1/1 [==============================] - 0s 87ms/step\n",
            "not_notes: 56.13%\n",
            "1/1 [==============================] - 0s 87ms/step\n",
            "not_notes: 99.97%\n",
            "1/1 [==============================] - 0s 79ms/step\n",
            "not_notes: 51.30%\n",
            "1/1 [==============================] - 0s 79ms/step\n",
            "not_notes: 78.02%\n",
            "1/1 [==============================] - 0s 79ms/step\n",
            "not_notes: 95.55%\n",
            "1/1 [==============================] - 0s 76ms/step\n",
            "not_notes: 81.92%\n",
            "1/1 [==============================] - 0s 83ms/step\n",
            "not_notes: 86.01%\n",
            "1/1 [==============================] - 0s 93ms/step\n",
            "not_notes: 84.98%\n",
            "1/1 [==============================] - 0s 95ms/step\n",
            "not_notes: 62.23%\n",
            "1/1 [==============================] - 0s 84ms/step\n",
            "not_notes: 97.94%\n",
            "1/1 [==============================] - 0s 86ms/step\n",
            "not_notes: 100.00%\n",
            "1/1 [==============================] - 0s 77ms/step\n",
            "not_notes: 82.61%\n",
            "1/1 [==============================] - 0s 124ms/step\n",
            "not_notes: 50.79%\n",
            "1/1 [==============================] - 0s 112ms/step\n",
            "not_notes: 64.47%\n",
            "1/1 [==============================] - 0s 121ms/step\n",
            "not_notes: 57.08%\n",
            "1/1 [==============================] - 0s 122ms/step\n",
            "not_notes: 99.95%\n",
            "1/1 [==============================] - 0s 126ms/step\n",
            "not_notes: 50.98%\n",
            "1/1 [==============================] - 0s 80ms/step\n",
            "not_notes: 88.33%\n",
            "1/1 [==============================] - 0s 81ms/step\n",
            "not_notes: 50.10%\n",
            "1/1 [==============================] - 0s 82ms/step\n",
            "not_notes: 52.99%\n",
            "1/1 [==============================] - 0s 84ms/step\n",
            "not_notes: 92.73%\n",
            "1/1 [==============================] - 0s 79ms/step\n",
            "not_notes: 60.20%\n",
            "1/1 [==============================] - 0s 92ms/step\n",
            "not_notes: 62.20%\n",
            "1/1 [==============================] - 0s 88ms/step\n",
            "not_notes: 87.94%\n",
            "1/1 [==============================] - 0s 83ms/step\n",
            "not_notes: 58.11%\n",
            "1/1 [==============================] - 0s 78ms/step\n",
            "not_notes: 73.80%\n",
            "1/1 [==============================] - 0s 75ms/step\n",
            "not_notes: 74.04%\n",
            "1/1 [==============================] - 0s 79ms/step\n",
            "not_notes: 55.92%\n",
            "1/1 [==============================] - 0s 73ms/step\n",
            "not_notes: 88.40%\n",
            "1/1 [==============================] - 0s 82ms/step\n",
            "not_notes: 50.09%\n",
            "1/1 [==============================] - 0s 494ms/step\n",
            "not_notes: 57.29%\n",
            "1/1 [==============================] - 0s 81ms/step\n",
            "not_notes: 59.26%\n",
            "1/1 [==============================] - 0s 83ms/step\n",
            "not_notes: 68.59%\n",
            "1/1 [==============================] - 0s 87ms/step\n",
            "not_notes: 97.54%\n",
            "1/1 [==============================] - 0s 122ms/step\n",
            "not_notes: 62.29%\n",
            "1/1 [==============================] - 0s 117ms/step\n",
            "not_notes: 75.45%\n",
            "1/1 [==============================] - 0s 121ms/step\n",
            "not_notes: 97.83%\n",
            "1/1 [==============================] - 0s 113ms/step\n",
            "not_notes: 64.96%\n",
            "1/1 [==============================] - 0s 112ms/step\n",
            "not_notes: 77.06%\n",
            "1/1 [==============================] - 0s 73ms/step\n",
            "not_notes: 56.81%\n",
            "1/1 [==============================] - 0s 73ms/step\n",
            "not_notes: 83.26%\n",
            "1/1 [==============================] - 0s 75ms/step\n",
            "not_notes: 99.18%\n",
            "1/1 [==============================] - 0s 84ms/step\n",
            "not_notes: 85.49%\n",
            "1/1 [==============================] - 0s 72ms/step\n",
            "not_notes: 74.82%\n",
            "1/1 [==============================] - 0s 80ms/step\n",
            "not_notes: 55.62%\n",
            "1/1 [==============================] - 0s 77ms/step\n",
            "not_notes: 63.03%\n",
            "1/1 [==============================] - 0s 93ms/step\n",
            "not_notes: 95.49%\n",
            "1/1 [==============================] - 0s 74ms/step\n",
            "not_notes: 99.88%\n",
            "1/1 [==============================] - 0s 76ms/step\n",
            "not_notes: 77.43%\n",
            "1/1 [==============================] - 0s 75ms/step\n",
            "not_notes: 54.81%\n",
            "1/1 [==============================] - 0s 80ms/step\n",
            "notes: 99.95%\n",
            "1/1 [==============================] - 0s 76ms/step\n",
            "notes: 93.35%\n",
            "1/1 [==============================] - 0s 77ms/step\n",
            "notes: 70.99%\n",
            "1/1 [==============================] - 0s 86ms/step\n",
            "notes: 59.97%\n",
            "1/1 [==============================] - 0s 73ms/step\n",
            "not_notes: 80.17%\n",
            "1/1 [==============================] - 0s 71ms/step\n",
            "notes: 95.11%\n",
            "1/1 [==============================] - 0s 73ms/step\n",
            "notes: 99.41%\n",
            "1/1 [==============================] - 0s 136ms/step\n",
            "not_notes: 56.49%\n",
            "1/1 [==============================] - 0s 109ms/step\n",
            "notes: 68.41%\n",
            "1/1 [==============================] - 0s 115ms/step\n",
            "notes: 90.88%\n",
            "1/1 [==============================] - 0s 106ms/step\n",
            "notes: 90.45%\n",
            "1/1 [==============================] - 0s 143ms/step\n",
            "notes: 82.53%\n",
            "1/1 [==============================] - 0s 101ms/step\n",
            "notes: 86.92%\n",
            "1/1 [==============================] - 0s 85ms/step\n",
            "notes: 85.02%\n",
            "1/1 [==============================] - 0s 85ms/step\n",
            "notes: 70.73%\n",
            "1/1 [==============================] - 0s 81ms/step\n",
            "notes: 91.61%\n",
            "1/1 [==============================] - 0s 81ms/step\n",
            "notes: 95.88%\n",
            "1/1 [==============================] - 0s 85ms/step\n",
            "notes: 89.16%\n",
            "1/1 [==============================] - 0s 78ms/step\n",
            "notes: 92.70%\n",
            "1/1 [==============================] - 0s 91ms/step\n",
            "not_notes: 96.72%\n",
            "1/1 [==============================] - 0s 82ms/step\n",
            "not_notes: 97.35%\n",
            "1/1 [==============================] - 0s 75ms/step\n",
            "notes: 99.87%\n",
            "1/1 [==============================] - 0s 73ms/step\n",
            "not_notes: 63.36%\n",
            "1/1 [==============================] - 0s 84ms/step\n",
            "not_notes: 69.52%\n",
            "1/1 [==============================] - 0s 79ms/step\n",
            "notes: 91.78%\n",
            "1/1 [==============================] - 0s 106ms/step\n",
            "notes: 93.40%\n",
            "1/1 [==============================] - 0s 75ms/step\n",
            "notes: 86.10%\n",
            "1/1 [==============================] - 0s 74ms/step\n",
            "notes: 78.75%\n",
            "1/1 [==============================] - 0s 76ms/step\n",
            "notes: 98.84%\n",
            "1/1 [==============================] - 0s 70ms/step\n",
            "notes: 98.19%\n",
            "1/1 [==============================] - 0s 104ms/step\n",
            "notes: 83.97%\n",
            "1/1 [==============================] - 0s 117ms/step\n",
            "notes: 89.48%\n",
            "1/1 [==============================] - 0s 112ms/step\n",
            "notes: 99.10%\n",
            "1/1 [==============================] - 0s 117ms/step\n",
            "notes: 94.00%\n",
            "1/1 [==============================] - 0s 77ms/step\n",
            "notes: 99.96%\n",
            "1/1 [==============================] - 0s 82ms/step\n",
            "notes: 87.11%\n"
          ]
        }
      ]
    },
    {
      "cell_type": "code",
      "source": [
        "\n"
      ],
      "metadata": {
        "id": "F942UKHk5z_U"
      },
      "execution_count": null,
      "outputs": []
    },
    {
      "cell_type": "code",
      "source": [
        "\n"
      ],
      "metadata": {
        "id": "4lf0uI4x5z69"
      },
      "execution_count": null,
      "outputs": []
    },
    {
      "cell_type": "code",
      "source": [],
      "metadata": {
        "id": "xfFPitnF5z2M"
      },
      "execution_count": null,
      "outputs": []
    },
    {
      "cell_type": "code",
      "source": [],
      "metadata": {
        "id": "9qMiJjFM5zxg"
      },
      "execution_count": null,
      "outputs": []
    },
    {
      "cell_type": "code",
      "source": [],
      "metadata": {
        "id": "rf_WZzPC5zsG"
      },
      "execution_count": null,
      "outputs": []
    },
    {
      "cell_type": "code",
      "source": [],
      "metadata": {
        "id": "KEgxCzv05zmf"
      },
      "execution_count": null,
      "outputs": []
    },
    {
      "cell_type": "code",
      "source": [],
      "metadata": {
        "id": "DRRZr-fQ5zjQ"
      },
      "execution_count": null,
      "outputs": []
    },
    {
      "cell_type": "code",
      "source": [],
      "metadata": {
        "id": "Vdp_oHBg5zgJ"
      },
      "execution_count": null,
      "outputs": []
    },
    {
      "cell_type": "code",
      "source": [],
      "metadata": {
        "id": "VrroKw3J5zdN"
      },
      "execution_count": null,
      "outputs": []
    },
    {
      "cell_type": "code",
      "source": [],
      "metadata": {
        "id": "5moBV1fp5zaV"
      },
      "execution_count": null,
      "outputs": []
    },
    {
      "cell_type": "code",
      "source": [],
      "metadata": {
        "id": "ffS5B-Da5zXV"
      },
      "execution_count": null,
      "outputs": []
    },
    {
      "cell_type": "code",
      "source": [],
      "metadata": {
        "id": "ytOqY6zH5zUX"
      },
      "execution_count": null,
      "outputs": []
    },
    {
      "cell_type": "code",
      "source": [],
      "metadata": {
        "id": "V6gwtxe55zRg"
      },
      "execution_count": null,
      "outputs": []
    },
    {
      "cell_type": "code",
      "source": [],
      "metadata": {
        "id": "RyHXiAzO5zL7"
      },
      "execution_count": null,
      "outputs": []
    },
    {
      "cell_type": "code",
      "source": [],
      "metadata": {
        "id": "U_UnzU9t5zJQ"
      },
      "execution_count": null,
      "outputs": []
    }
  ]
}