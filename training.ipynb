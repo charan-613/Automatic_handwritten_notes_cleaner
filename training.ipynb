{
  "nbformat": 4,
  "nbformat_minor": 0,
  "metadata": {
    "colab": {
      "provenance": []
    },
    "kernelspec": {
      "name": "python3",
      "display_name": "Python 3"
    },
    "language_info": {
      "name": "python"
    }
  },
  "cells": [
    {
      "cell_type": "code",
      "execution_count": 1,
      "metadata": {
        "id": "Zt9u1yxPYZVJ"
      },
      "outputs": [],
      "source": [
        "from tensorflow.keras.layers import Flatten\n",
        "from tensorflow.keras.layers import Dense\n",
        "from keras.preprocessing.image import ImageDataGenerator\n",
        "from keras.preprocessing.image import img_to_array\n",
        "from keras.utils import to_categorical\n",
        "from imutils import paths\n",
        "from keras.optimizers import Adam\n",
        "from sklearn.model_selection import train_test_split\n",
        "import numpy as np\n",
        "import matplotlib.pyplot as plt\n",
        "import argparse\n",
        "import os\n",
        "import cv2\n",
        "import random\n"
      ]
    },
    {
      "cell_type": "code",
      "source": [
        "'''Setting the backend to 'Agg' is often used in scenarios where you are generating plots in a script or program\n",
        " that doesn't have a graphical user interface (GUI)\n",
        " or when running scripts on servers where displaying graphical plots isn't possible or necessary.'''\n",
        "\n",
        "import matplotlib\n",
        "matplotlib.use('Agg')"
      ],
      "metadata": {
        "id": "tqxIDJzjkJjD"
      },
      "execution_count": 2,
      "outputs": []
    },
    {
      "cell_type": "code",
      "source": [
        "ap = argparse.ArgumentParser()"
      ],
      "metadata": {
        "id": "nBX9VkDoYdQm"
      },
      "execution_count": 3,
      "outputs": []
    },
    {
      "cell_type": "code",
      "source": [
        "# ap.add_argument('-d', \"--dataset\", required=True, help='path to input dataset')\n",
        "# ap.add_argument('-m', '--model', required=True, help='path to output model')"
      ],
      "metadata": {
        "id": "OW8IucKzYdKo"
      },
      "execution_count": 4,
      "outputs": []
    },
    {
      "cell_type": "code",
      "source": [
        "import argparse\n",
        "import sys\n",
        "\n",
        "# Create an ArgumentParser object\n",
        "ap = argparse.ArgumentParser()\n",
        "\n",
        "# Add the plot argument\n",
        "ap.add_argument('-p', '--plot', type=str, default='plot.png', help='path to output accuracy/loss plot')\n",
        "\n",
        "# Parse the command-line arguments (simulated)\n",
        "args = ap.parse_args([\"-p\", \"/content/plot.png\"])\n",
        "\n",
        "# Access the value of the 'plot' argument\n",
        "plot_path = args.plot\n",
        "print(f\"Plot path: {plot_path}\")\n"
      ],
      "metadata": {
        "colab": {
          "base_uri": "https://localhost:8080/"
        },
        "id": "EbkuQSwnYdEW",
        "outputId": "4c747998-9148-4203-c800-70169feb2992"
      },
      "execution_count": 5,
      "outputs": [
        {
          "output_type": "stream",
          "name": "stdout",
          "text": [
            "Plot path: /content/plot.png\n"
          ]
        }
      ]
    },
    {
      "cell_type": "code",
      "source": [
        "EPOCHS = 30      #number_of_epochs\n",
        "INIT_LR = 1e-3   #initial learning rate\n",
        "BS = 32          #Batch size"
      ],
      "metadata": {
        "id": "xt2bM6Z2iy8T"
      },
      "execution_count": 6,
      "outputs": []
    },
    {
      "cell_type": "code",
      "source": [
        "#initialize the data and labels\n",
        "print(\"Loading images....\")\n",
        "data = []\n",
        "labels = []\n",
        "imagePaths = []\n"
      ],
      "metadata": {
        "colab": {
          "base_uri": "https://localhost:8080/"
        },
        "id": "GWTw6GxgYdA0",
        "outputId": "7a1258f5-e94e-4f94-dcdb-59f97fcd5f32"
      },
      "execution_count": 7,
      "outputs": [
        {
          "output_type": "stream",
          "name": "stdout",
          "text": [
            "Loading images....\n"
          ]
        }
      ]
    },
    {
      "cell_type": "code",
      "source": [
        "#image paths and shuffle them\n",
        "# imagePaths = sorted(list(paths.list_images(args['dataset'])))"
      ],
      "metadata": {
        "id": "iohX8DnWYc91"
      },
      "execution_count": 8,
      "outputs": []
    },
    {
      "cell_type": "code",
      "source": [
        "notes= '/content/drive/MyDrive/Colab_Notebooks/Project_delete/Images/notes'\n",
        "not_notes= '/content/drive/MyDrive/Colab_Notebooks/Project_delete/Images/not_notes'"
      ],
      "metadata": {
        "id": "dnqG3gIuYc6z"
      },
      "execution_count": 9,
      "outputs": []
    },
    {
      "cell_type": "code",
      "source": [
        "for filename in os.listdir(notes): # Gets details of everyfile in path mentioned\n",
        "\t\timg = os.path.join(notes,filename) # For each filename in the directory, to create a full file path by joining the notes directory path and the filename\n",
        "\t\timagePaths.append(img) # Appends all the paths into a list"
      ],
      "metadata": {
        "id": "Qsn7MpPRYc3v"
      },
      "execution_count": 10,
      "outputs": []
    },
    {
      "cell_type": "code",
      "source": [
        "for filename in os.listdir(not_notes):\n",
        "\t\timg = os.path.join(not_notes,filename)\n",
        "\t\timagePaths.append(img)"
      ],
      "metadata": {
        "id": "is_EHyApnzI-"
      },
      "execution_count": 11,
      "outputs": []
    },
    {
      "cell_type": "code",
      "source": [
        "random.seed(42)  # Setting random state for shuffling\n",
        "random.shuffle(imagePaths) # Shuffling the image paths"
      ],
      "metadata": {
        "id": "ffu5N4HLYcxd"
      },
      "execution_count": 12,
      "outputs": []
    },
    {
      "cell_type": "code",
      "source": [
        "for path in imagePaths:\n",
        "\n",
        "    img = cv2.imread(path)  # A computer vision function used for reading the images\n",
        "    img = cv2.resize(img,(28,28)) # Resizing the imges for entering specific input for images while model building which is considered as a common measure for all images\n",
        "    img = img_to_array(img) # Converting the images to numerical matrice format\n",
        "    data.append(img)\n",
        "\n",
        "    label = path.split(os.path.sep)[-2]  # In a path like \"C:\\images\\notes\\image1.jpg,\" the second-to-last part is \"notes.\" It's like counting the parts in the path from right to left.\n",
        "    label = 1 if label == 'notes' else 0\n",
        "    labels.append(label)"
      ],
      "metadata": {
        "id": "j9oslH-WYcuU"
      },
      "execution_count": 13,
      "outputs": []
    },
    {
      "cell_type": "code",
      "source": [
        "data = np.array(data,dtype='float')/255.0   # Making sure the values stay between 0 and 1\n",
        "labels = np.array(labels)\n",
        "(X_train, X_test, y_train, y_test) = train_test_split(data,labels,test_size=0.25,random_state=42)\n"
      ],
      "metadata": {
        "id": "U17eaWZXYcol"
      },
      "execution_count": 14,
      "outputs": []
    },
    {
      "cell_type": "code",
      "source": [
        "#converting int arrays to vectors\n",
        "y_train = to_categorical(y_train, num_classes=2)\n",
        "y_test = to_categorical(y_test, num_classes=2)"
      ],
      "metadata": {
        "id": "Oay4b2HwYcl8"
      },
      "execution_count": 15,
      "outputs": []
    },
    {
      "cell_type": "code",
      "source": [
        "#data augmentation\n",
        "datagen= ImageDataGenerator(\n",
        "    rotation_range= 40,\n",
        "    width_shift_range= 0.2,\n",
        "    height_shift_range= 0.2,\n",
        "    shear_range= 0.2,\n",
        "    zoom_range= 0.2,\n",
        "    horizontal_flip= True,\n",
        "    fill_mode= 'nearest'\n",
        ")"
      ],
      "metadata": {
        "id": "V_wyoILeiErk"
      },
      "execution_count": 16,
      "outputs": []
    },
    {
      "cell_type": "code",
      "source": [
        "%run lenet.ipynb"
      ],
      "metadata": {
        "id": "m4rBZ3obVnYH"
      },
      "execution_count": 18,
      "outputs": []
    },
    {
      "cell_type": "code",
      "source": [
        "%load lenet.ipynb"
      ],
      "metadata": {
        "id": "eHuCMN1mWn00"
      },
      "execution_count": 19,
      "outputs": []
    },
    {
      "cell_type": "code",
      "source": [
        "from tensorflow.keras.models import Sequential\n",
        "from tensorflow.keras.layers import Dense\n",
        "from tensorflow.keras.layers import Convolution2D\n",
        "from tensorflow.keras.layers import MaxPooling2D\n",
        "from tensorflow.keras.layers import Flatten\n",
        "from tensorflow.keras.layers import Activation\n",
        "from keras import backend as K"
      ],
      "metadata": {
        "id": "TtvUtJPaYGDv"
      },
      "execution_count": 20,
      "outputs": []
    },
    {
      "cell_type": "code",
      "source": [
        "#initialize the model\n",
        "print(\"[INFO] compiling model...\")\n",
        "model = LeNet.build(width=28,height=28,depth=3,classes=2)\n",
        "\n",
        "import tensorflow as tf\n",
        "lr_schedule = tf.keras.optimizers.schedules.ExponentialDecay(\n",
        "    initial_learning_rate= 1e-4,\n",
        "    decay_steps=10000,\n",
        "    decay_rate=0.9)\n",
        "opt = tf.keras.optimizers.Adam(learning_rate=lr_schedule)\n",
        "model.compile(loss='binary_crossentropy', optimizer=opt, metrics=['accuracy'])"
      ],
      "metadata": {
        "id": "1c5ChttwYcdB",
        "colab": {
          "base_uri": "https://localhost:8080/"
        },
        "outputId": "0013cfa6-ffab-4c39-f0f9-a6440cf86a4d"
      },
      "execution_count": 21,
      "outputs": [
        {
          "output_type": "stream",
          "name": "stdout",
          "text": [
            "[INFO] compiling model...\n"
          ]
        }
      ]
    },
    {
      "cell_type": "code",
      "source": [
        "#train the network\n",
        "print('[INFO] training network...')\n",
        "H = model.fit_generator(datagen.flow(X_train, y_train,batch_size=BS),\n",
        "\tvalidation_data=(X_test, y_test), steps_per_epoch=len(X_train)//BS,\n",
        "\tepochs=EPOCHS, verbose=1)"
      ],
      "metadata": {
        "id": "jEaO_xR7sbnW",
        "colab": {
          "base_uri": "https://localhost:8080/"
        },
        "outputId": "2be9a6e7-352f-4de0-83ed-a72cb1d452bf"
      },
      "execution_count": 24,
      "outputs": [
        {
          "output_type": "stream",
          "name": "stdout",
          "text": [
            "[INFO] training network...\n",
            "Epoch 1/30\n"
          ]
        },
        {
          "output_type": "stream",
          "name": "stderr",
          "text": [
            "<ipython-input-24-5af968a6eb36>:3: UserWarning: `Model.fit_generator` is deprecated and will be removed in a future version. Please use `Model.fit`, which supports generators.\n",
            "  H = model.fit_generator(datagen.flow(X_train, y_train,batch_size=BS),\n"
          ]
        },
        {
          "output_type": "stream",
          "name": "stdout",
          "text": [
            "30/30 [==============================] - 9s 302ms/step - loss: 0.2829 - accuracy: 0.8798 - val_loss: 0.2261 - val_accuracy: 0.9182\n",
            "Epoch 2/30\n",
            "30/30 [==============================] - 12s 416ms/step - loss: 0.2879 - accuracy: 0.8830 - val_loss: 0.2423 - val_accuracy: 0.9121\n",
            "Epoch 3/30\n",
            "30/30 [==============================] - 13s 424ms/step - loss: 0.2780 - accuracy: 0.8851 - val_loss: 0.2654 - val_accuracy: 0.9030\n",
            "Epoch 4/30\n",
            "30/30 [==============================] - 7s 218ms/step - loss: 0.2832 - accuracy: 0.8851 - val_loss: 0.2963 - val_accuracy: 0.8970\n",
            "Epoch 5/30\n",
            "30/30 [==============================] - 6s 192ms/step - loss: 0.2918 - accuracy: 0.8788 - val_loss: 0.2822 - val_accuracy: 0.8879\n",
            "Epoch 6/30\n",
            "30/30 [==============================] - 8s 264ms/step - loss: 0.2676 - accuracy: 0.8861 - val_loss: 0.2222 - val_accuracy: 0.9182\n",
            "Epoch 7/30\n",
            "30/30 [==============================] - 5s 172ms/step - loss: 0.2921 - accuracy: 0.8715 - val_loss: 0.2735 - val_accuracy: 0.9061\n",
            "Epoch 8/30\n",
            "30/30 [==============================] - 6s 185ms/step - loss: 0.2519 - accuracy: 0.8934 - val_loss: 0.2024 - val_accuracy: 0.9303\n",
            "Epoch 9/30\n",
            "30/30 [==============================] - 6s 209ms/step - loss: 0.2565 - accuracy: 0.9007 - val_loss: 0.2295 - val_accuracy: 0.9182\n",
            "Epoch 10/30\n",
            "30/30 [==============================] - 6s 206ms/step - loss: 0.2540 - accuracy: 0.8955 - val_loss: 0.1822 - val_accuracy: 0.9394\n",
            "Epoch 11/30\n",
            "30/30 [==============================] - 5s 175ms/step - loss: 0.2696 - accuracy: 0.8882 - val_loss: 0.1817 - val_accuracy: 0.9333\n",
            "Epoch 12/30\n",
            "30/30 [==============================] - 8s 271ms/step - loss: 0.2490 - accuracy: 0.9049 - val_loss: 0.1793 - val_accuracy: 0.9424\n",
            "Epoch 13/30\n",
            "30/30 [==============================] - 6s 185ms/step - loss: 0.2545 - accuracy: 0.8997 - val_loss: 0.2349 - val_accuracy: 0.9303\n",
            "Epoch 14/30\n",
            "30/30 [==============================] - 6s 188ms/step - loss: 0.2446 - accuracy: 0.9007 - val_loss: 0.2658 - val_accuracy: 0.9030\n",
            "Epoch 15/30\n",
            "30/30 [==============================] - 7s 232ms/step - loss: 0.2628 - accuracy: 0.8913 - val_loss: 0.2725 - val_accuracy: 0.9000\n",
            "Epoch 16/30\n",
            "30/30 [==============================] - 5s 179ms/step - loss: 0.2587 - accuracy: 0.8934 - val_loss: 0.1894 - val_accuracy: 0.9212\n",
            "Epoch 17/30\n",
            "30/30 [==============================] - 5s 182ms/step - loss: 0.2488 - accuracy: 0.8997 - val_loss: 0.1630 - val_accuracy: 0.9545\n",
            "Epoch 18/30\n",
            "30/30 [==============================] - 7s 236ms/step - loss: 0.2533 - accuracy: 0.8966 - val_loss: 0.2304 - val_accuracy: 0.9364\n",
            "Epoch 19/30\n",
            "30/30 [==============================] - 5s 182ms/step - loss: 0.2451 - accuracy: 0.8934 - val_loss: 0.2206 - val_accuracy: 0.9303\n",
            "Epoch 20/30\n",
            "30/30 [==============================] - 6s 189ms/step - loss: 0.2583 - accuracy: 0.9094 - val_loss: 0.2121 - val_accuracy: 0.9333\n",
            "Epoch 21/30\n",
            "30/30 [==============================] - 7s 241ms/step - loss: 0.2498 - accuracy: 0.8871 - val_loss: 0.1892 - val_accuracy: 0.9364\n",
            "Epoch 22/30\n",
            "30/30 [==============================] - 6s 193ms/step - loss: 0.3103 - accuracy: 0.8757 - val_loss: 0.1821 - val_accuracy: 0.9394\n",
            "Epoch 23/30\n",
            "30/30 [==============================] - 5s 181ms/step - loss: 0.2519 - accuracy: 0.9049 - val_loss: 0.1680 - val_accuracy: 0.9424\n",
            "Epoch 24/30\n",
            "30/30 [==============================] - 7s 218ms/step - loss: 0.2342 - accuracy: 0.9021 - val_loss: 0.1716 - val_accuracy: 0.9424\n",
            "Epoch 25/30\n",
            "30/30 [==============================] - 7s 229ms/step - loss: 0.2425 - accuracy: 0.8986 - val_loss: 0.1974 - val_accuracy: 0.9394\n",
            "Epoch 26/30\n",
            "30/30 [==============================] - 6s 191ms/step - loss: 0.2417 - accuracy: 0.9028 - val_loss: 0.2647 - val_accuracy: 0.9182\n",
            "Epoch 27/30\n",
            "30/30 [==============================] - 5s 178ms/step - loss: 0.2528 - accuracy: 0.8997 - val_loss: 0.2100 - val_accuracy: 0.9273\n",
            "Epoch 28/30\n",
            "30/30 [==============================] - 7s 227ms/step - loss: 0.2295 - accuracy: 0.9028 - val_loss: 0.2551 - val_accuracy: 0.9121\n",
            "Epoch 29/30\n",
            "30/30 [==============================] - 6s 185ms/step - loss: 0.2524 - accuracy: 0.8986 - val_loss: 0.1837 - val_accuracy: 0.9485\n",
            "Epoch 30/30\n",
            "30/30 [==============================] - 6s 190ms/step - loss: 0.2446 - accuracy: 0.8997 - val_loss: 0.2575 - val_accuracy: 0.9000\n"
          ]
        }
      ]
    },
    {
      "cell_type": "code",
      "source": [
        "print('[INFO] serializing network...')\n",
        "model.save('mymodel.h5')"
      ],
      "metadata": {
        "id": "cW2nNXCJsbju",
        "colab": {
          "base_uri": "https://localhost:8080/"
        },
        "outputId": "97177d8b-54c7-4b0c-9974-3603e50c8a51"
      },
      "execution_count": 25,
      "outputs": [
        {
          "output_type": "stream",
          "name": "stdout",
          "text": [
            "[INFO] serializing network...\n"
          ]
        },
        {
          "output_type": "stream",
          "name": "stderr",
          "text": [
            "/usr/local/lib/python3.10/dist-packages/keras/src/engine/training.py:3079: UserWarning: You are saving your model as an HDF5 file via `model.save()`. This file format is considered legacy. We recommend using instead the native Keras format, e.g. `model.save('my_model.keras')`.\n",
            "  saving_api.save_model(\n"
          ]
        }
      ]
    },
    {
      "cell_type": "code",
      "source": [
        "plt.style.use(\"ggplot\")\n",
        "plt.figure()\n",
        "N = EPOCHS\n",
        "plt.plot(np.arange(0, N), H.history['loss'], label='train_loss')\n",
        "plt.plot(np.arange(0, N), H.history['val_loss'], label='val_loss')\n",
        "plt.plot(np.arange(0, N), H.history['accuracy'], label='train_acc')\n",
        "plt.plot(np.arange(0, N), H.history['val_accuracy'], label='val_acc')\n",
        "plt.title(\"Training loss and accuracy on Notes/Not Notes\")\n",
        "plt.xlabel(\"Epoch #\")\n",
        "plt.ylabel(\"Loss/Accuracy\")\n",
        "plt.legend(loc='lower left')\n",
        "plt.savefig(\"plot.png\")  # Specify the desired filename here\n"
      ],
      "metadata": {
        "id": "2RqvPXnQsbg2"
      },
      "execution_count": 26,
      "outputs": []
    }
  ]
}